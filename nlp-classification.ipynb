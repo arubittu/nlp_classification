{
 "cells": [
  {
   "cell_type": "code",
   "execution_count": 1,
   "id": "nuclear-welcome",
   "metadata": {
    "_cell_guid": "b1076dfc-b9ad-4769-8c92-a6c4dae69d19",
    "_uuid": "8f2839f25d086af736a60e9eeb907d3b93b6e0e5",
    "execution": {
     "iopub.execute_input": "2021-06-14T13:22:24.346548Z",
     "iopub.status.busy": "2021-06-14T13:22:24.345822Z",
     "iopub.status.idle": "2021-06-14T13:22:24.353674Z",
     "shell.execute_reply": "2021-06-14T13:22:24.352709Z",
     "shell.execute_reply.started": "2021-06-14T12:27:14.393678Z"
    },
    "papermill": {
     "duration": 0.043427,
     "end_time": "2021-06-14T13:22:24.353933",
     "exception": false,
     "start_time": "2021-06-14T13:22:24.310506",
     "status": "completed"
    },
    "tags": []
   },
   "outputs": [
    {
     "name": "stdout",
     "output_type": "stream",
     "text": [
      "/kaggle/input/nlp-getting-started/sample_submission.csv\n",
      "/kaggle/input/nlp-getting-started/train.csv\n",
      "/kaggle/input/nlp-getting-started/test.csv\n"
     ]
    }
   ],
   "source": [
    "# This Python 3 environment comes with many helpful analytics libraries installed\n",
    "# It is defined by the kaggle/python Docker image: https://github.com/kaggle/docker-python\n",
    "# For example, here's several helpful packages to load\n",
    "\n",
    "import numpy as np # linear algebra\n",
    "import pandas as pd # data processing, CSV file I/O (e.g. pd.read_csv)\n",
    "\n",
    "# Input data files are available in the read-only \"../input/\" directory\n",
    "# For example, running this (by clicking run or pressing Shift+Enter) will list all files under the input directory\n",
    "\n",
    "import os\n",
    "for dirname, _, filenames in os.walk('/kaggle/input'):\n",
    "    for filename in filenames:\n",
    "        print(os.path.join(dirname, filename))\n",
    "\n",
    "# You can write up to 20GB to the current directory (/kaggle/working/) that gets preserved as output when you create a version using \"Save & Run All\" \n",
    "# You can also write temporary files to /kaggle/temp/, but they won't be saved outside of the current session"
   ]
  },
  {
   "cell_type": "code",
   "execution_count": 2,
   "id": "magnetic-lloyd",
   "metadata": {
    "execution": {
     "iopub.execute_input": "2021-06-14T13:22:24.406804Z",
     "iopub.status.busy": "2021-06-14T13:22:24.405924Z",
     "iopub.status.idle": "2021-06-14T13:22:24.486987Z",
     "shell.execute_reply": "2021-06-14T13:22:24.486291Z",
     "shell.execute_reply.started": "2021-06-14T12:27:14.408372Z"
    },
    "papermill": {
     "duration": 0.108864,
     "end_time": "2021-06-14T13:22:24.487133",
     "exception": false,
     "start_time": "2021-06-14T13:22:24.378269",
     "status": "completed"
    },
    "tags": []
   },
   "outputs": [],
   "source": [
    "train=pd.read_csv('../input/nlp-getting-started/train.csv')\n",
    "test=pd.read_csv('../input/nlp-getting-started/test.csv')\n"
   ]
  },
  {
   "cell_type": "code",
   "execution_count": 3,
   "id": "ranking-youth",
   "metadata": {
    "execution": {
     "iopub.execute_input": "2021-06-14T13:22:24.548715Z",
     "iopub.status.busy": "2021-06-14T13:22:24.547742Z",
     "iopub.status.idle": "2021-06-14T13:22:24.567969Z",
     "shell.execute_reply": "2021-06-14T13:22:24.567386Z",
     "shell.execute_reply.started": "2021-06-14T12:27:14.489349Z"
    },
    "papermill": {
     "duration": 0.057215,
     "end_time": "2021-06-14T13:22:24.568112",
     "exception": false,
     "start_time": "2021-06-14T13:22:24.510897",
     "status": "completed"
    },
    "tags": []
   },
   "outputs": [
    {
     "data": {
      "text/html": [
       "<div>\n",
       "<style scoped>\n",
       "    .dataframe tbody tr th:only-of-type {\n",
       "        vertical-align: middle;\n",
       "    }\n",
       "\n",
       "    .dataframe tbody tr th {\n",
       "        vertical-align: top;\n",
       "    }\n",
       "\n",
       "    .dataframe thead th {\n",
       "        text-align: right;\n",
       "    }\n",
       "</style>\n",
       "<table border=\"1\" class=\"dataframe\">\n",
       "  <thead>\n",
       "    <tr style=\"text-align: right;\">\n",
       "      <th></th>\n",
       "      <th>id</th>\n",
       "      <th>keyword</th>\n",
       "      <th>location</th>\n",
       "      <th>text</th>\n",
       "      <th>target</th>\n",
       "    </tr>\n",
       "  </thead>\n",
       "  <tbody>\n",
       "    <tr>\n",
       "      <th>0</th>\n",
       "      <td>1</td>\n",
       "      <td>NaN</td>\n",
       "      <td>NaN</td>\n",
       "      <td>Our Deeds are the Reason of this #earthquake M...</td>\n",
       "      <td>1</td>\n",
       "    </tr>\n",
       "    <tr>\n",
       "      <th>1</th>\n",
       "      <td>4</td>\n",
       "      <td>NaN</td>\n",
       "      <td>NaN</td>\n",
       "      <td>Forest fire near La Ronge Sask. Canada</td>\n",
       "      <td>1</td>\n",
       "    </tr>\n",
       "    <tr>\n",
       "      <th>2</th>\n",
       "      <td>5</td>\n",
       "      <td>NaN</td>\n",
       "      <td>NaN</td>\n",
       "      <td>All residents asked to 'shelter in place' are ...</td>\n",
       "      <td>1</td>\n",
       "    </tr>\n",
       "    <tr>\n",
       "      <th>3</th>\n",
       "      <td>6</td>\n",
       "      <td>NaN</td>\n",
       "      <td>NaN</td>\n",
       "      <td>13,000 people receive #wildfires evacuation or...</td>\n",
       "      <td>1</td>\n",
       "    </tr>\n",
       "    <tr>\n",
       "      <th>4</th>\n",
       "      <td>7</td>\n",
       "      <td>NaN</td>\n",
       "      <td>NaN</td>\n",
       "      <td>Just got sent this photo from Ruby #Alaska as ...</td>\n",
       "      <td>1</td>\n",
       "    </tr>\n",
       "  </tbody>\n",
       "</table>\n",
       "</div>"
      ],
      "text/plain": [
       "   id keyword location                                               text  \\\n",
       "0   1     NaN      NaN  Our Deeds are the Reason of this #earthquake M...   \n",
       "1   4     NaN      NaN             Forest fire near La Ronge Sask. Canada   \n",
       "2   5     NaN      NaN  All residents asked to 'shelter in place' are ...   \n",
       "3   6     NaN      NaN  13,000 people receive #wildfires evacuation or...   \n",
       "4   7     NaN      NaN  Just got sent this photo from Ruby #Alaska as ...   \n",
       "\n",
       "   target  \n",
       "0       1  \n",
       "1       1  \n",
       "2       1  \n",
       "3       1  \n",
       "4       1  "
      ]
     },
     "execution_count": 3,
     "metadata": {},
     "output_type": "execute_result"
    }
   ],
   "source": [
    "train.head()"
   ]
  },
  {
   "cell_type": "code",
   "execution_count": 4,
   "id": "noticed-worcester",
   "metadata": {
    "execution": {
     "iopub.execute_input": "2021-06-14T13:22:24.620388Z",
     "iopub.status.busy": "2021-06-14T13:22:24.619411Z",
     "iopub.status.idle": "2021-06-14T13:22:24.630500Z",
     "shell.execute_reply": "2021-06-14T13:22:24.630986Z",
     "shell.execute_reply.started": "2021-06-14T12:27:14.516445Z"
    },
    "papermill": {
     "duration": 0.038425,
     "end_time": "2021-06-14T13:22:24.631186",
     "exception": false,
     "start_time": "2021-06-14T13:22:24.592761",
     "status": "completed"
    },
    "tags": []
   },
   "outputs": [
    {
     "data": {
      "text/html": [
       "<div>\n",
       "<style scoped>\n",
       "    .dataframe tbody tr th:only-of-type {\n",
       "        vertical-align: middle;\n",
       "    }\n",
       "\n",
       "    .dataframe tbody tr th {\n",
       "        vertical-align: top;\n",
       "    }\n",
       "\n",
       "    .dataframe thead th {\n",
       "        text-align: right;\n",
       "    }\n",
       "</style>\n",
       "<table border=\"1\" class=\"dataframe\">\n",
       "  <thead>\n",
       "    <tr style=\"text-align: right;\">\n",
       "      <th></th>\n",
       "      <th>id</th>\n",
       "      <th>keyword</th>\n",
       "      <th>location</th>\n",
       "      <th>text</th>\n",
       "    </tr>\n",
       "  </thead>\n",
       "  <tbody>\n",
       "    <tr>\n",
       "      <th>0</th>\n",
       "      <td>0</td>\n",
       "      <td>NaN</td>\n",
       "      <td>NaN</td>\n",
       "      <td>Just happened a terrible car crash</td>\n",
       "    </tr>\n",
       "    <tr>\n",
       "      <th>1</th>\n",
       "      <td>2</td>\n",
       "      <td>NaN</td>\n",
       "      <td>NaN</td>\n",
       "      <td>Heard about #earthquake is different cities, s...</td>\n",
       "    </tr>\n",
       "    <tr>\n",
       "      <th>2</th>\n",
       "      <td>3</td>\n",
       "      <td>NaN</td>\n",
       "      <td>NaN</td>\n",
       "      <td>there is a forest fire at spot pond, geese are...</td>\n",
       "    </tr>\n",
       "    <tr>\n",
       "      <th>3</th>\n",
       "      <td>9</td>\n",
       "      <td>NaN</td>\n",
       "      <td>NaN</td>\n",
       "      <td>Apocalypse lighting. #Spokane #wildfires</td>\n",
       "    </tr>\n",
       "    <tr>\n",
       "      <th>4</th>\n",
       "      <td>11</td>\n",
       "      <td>NaN</td>\n",
       "      <td>NaN</td>\n",
       "      <td>Typhoon Soudelor kills 28 in China and Taiwan</td>\n",
       "    </tr>\n",
       "  </tbody>\n",
       "</table>\n",
       "</div>"
      ],
      "text/plain": [
       "   id keyword location                                               text\n",
       "0   0     NaN      NaN                 Just happened a terrible car crash\n",
       "1   2     NaN      NaN  Heard about #earthquake is different cities, s...\n",
       "2   3     NaN      NaN  there is a forest fire at spot pond, geese are...\n",
       "3   9     NaN      NaN           Apocalypse lighting. #Spokane #wildfires\n",
       "4  11     NaN      NaN      Typhoon Soudelor kills 28 in China and Taiwan"
      ]
     },
     "execution_count": 4,
     "metadata": {},
     "output_type": "execute_result"
    }
   ],
   "source": [
    "test.head(5)"
   ]
  },
  {
   "cell_type": "code",
   "execution_count": 5,
   "id": "seasonal-trail",
   "metadata": {
    "execution": {
     "iopub.execute_input": "2021-06-14T13:22:24.682089Z",
     "iopub.status.busy": "2021-06-14T13:22:24.681319Z",
     "iopub.status.idle": "2021-06-14T13:22:24.695297Z",
     "shell.execute_reply": "2021-06-14T13:22:24.694688Z",
     "shell.execute_reply.started": "2021-06-14T12:27:14.527561Z"
    },
    "papermill": {
     "duration": 0.040435,
     "end_time": "2021-06-14T13:22:24.695434",
     "exception": false,
     "start_time": "2021-06-14T13:22:24.654999",
     "status": "completed"
    },
    "tags": []
   },
   "outputs": [
    {
     "data": {
      "text/plain": [
       "fatalities               45\n",
       "deluge                   42\n",
       "armageddon               42\n",
       "body%20bags              41\n",
       "harm                     41\n",
       "                         ..\n",
       "forest%20fire            19\n",
       "epicentre                12\n",
       "threat                   11\n",
       "inundation               10\n",
       "radiation%20emergency     9\n",
       "Name: keyword, Length: 221, dtype: int64"
      ]
     },
     "execution_count": 5,
     "metadata": {},
     "output_type": "execute_result"
    }
   ],
   "source": [
    "train.keyword.value_counts()"
   ]
  },
  {
   "cell_type": "code",
   "execution_count": 6,
   "id": "studied-estimate",
   "metadata": {
    "execution": {
     "iopub.execute_input": "2021-06-14T13:22:24.752346Z",
     "iopub.status.busy": "2021-06-14T13:22:24.751705Z",
     "iopub.status.idle": "2021-06-14T13:22:24.757758Z",
     "shell.execute_reply": "2021-06-14T13:22:24.758265Z",
     "shell.execute_reply.started": "2021-06-14T12:27:14.548743Z"
    },
    "papermill": {
     "duration": 0.038857,
     "end_time": "2021-06-14T13:22:24.758524",
     "exception": false,
     "start_time": "2021-06-14T13:22:24.719667",
     "status": "completed"
    },
    "tags": []
   },
   "outputs": [
    {
     "data": {
      "text/plain": [
       "USA                          104\n",
       "New York                      71\n",
       "United States                 50\n",
       "London                        45\n",
       "Canada                        29\n",
       "                            ... \n",
       "PSN: Pipbois                   1\n",
       "Ideally under a big tree       1\n",
       "Jersey City, NJ                1\n",
       "Portoviejo-Manabi-Ecuador      1\n",
       "Eugene, Oregon                 1\n",
       "Name: location, Length: 3341, dtype: int64"
      ]
     },
     "execution_count": 6,
     "metadata": {},
     "output_type": "execute_result"
    }
   ],
   "source": [
    "train.location.value_counts()"
   ]
  },
  {
   "cell_type": "code",
   "execution_count": 7,
   "id": "floppy-standing",
   "metadata": {
    "execution": {
     "iopub.execute_input": "2021-06-14T13:22:24.812330Z",
     "iopub.status.busy": "2021-06-14T13:22:24.811702Z",
     "iopub.status.idle": "2021-06-14T13:22:24.817920Z",
     "shell.execute_reply": "2021-06-14T13:22:24.818356Z",
     "shell.execute_reply.started": "2021-06-14T12:27:14.565583Z"
    },
    "papermill": {
     "duration": 0.035059,
     "end_time": "2021-06-14T13:22:24.818547",
     "exception": false,
     "start_time": "2021-06-14T13:22:24.783488",
     "status": "completed"
    },
    "tags": []
   },
   "outputs": [
    {
     "data": {
      "text/plain": [
       "0    4342\n",
       "1    3271\n",
       "Name: target, dtype: int64"
      ]
     },
     "execution_count": 7,
     "metadata": {},
     "output_type": "execute_result"
    }
   ],
   "source": [
    "train.target.value_counts()"
   ]
  },
  {
   "cell_type": "code",
   "execution_count": 8,
   "id": "arranged-brooklyn",
   "metadata": {
    "execution": {
     "iopub.execute_input": "2021-06-14T13:22:24.872927Z",
     "iopub.status.busy": "2021-06-14T13:22:24.872261Z",
     "iopub.status.idle": "2021-06-14T13:22:24.891770Z",
     "shell.execute_reply": "2021-06-14T13:22:24.892507Z",
     "shell.execute_reply.started": "2021-06-14T12:27:14.575640Z"
    },
    "papermill": {
     "duration": 0.048839,
     "end_time": "2021-06-14T13:22:24.892743",
     "exception": false,
     "start_time": "2021-06-14T13:22:24.843904",
     "status": "completed"
    },
    "tags": []
   },
   "outputs": [
    {
     "name": "stdout",
     "output_type": "stream",
     "text": [
      "<class 'pandas.core.frame.DataFrame'>\n",
      "RangeIndex: 7613 entries, 0 to 7612\n",
      "Data columns (total 5 columns):\n",
      " #   Column    Non-Null Count  Dtype \n",
      "---  ------    --------------  ----- \n",
      " 0   id        7613 non-null   int64 \n",
      " 1   keyword   7552 non-null   object\n",
      " 2   location  5080 non-null   object\n",
      " 3   text      7613 non-null   object\n",
      " 4   target    7613 non-null   int64 \n",
      "dtypes: int64(2), object(3)\n",
      "memory usage: 297.5+ KB\n"
     ]
    }
   ],
   "source": [
    "train.info()"
   ]
  },
  {
   "cell_type": "code",
   "execution_count": 9,
   "id": "compatible-maryland",
   "metadata": {
    "execution": {
     "iopub.execute_input": "2021-06-14T13:22:24.950224Z",
     "iopub.status.busy": "2021-06-14T13:22:24.948951Z",
     "iopub.status.idle": "2021-06-14T13:22:24.975995Z",
     "shell.execute_reply": "2021-06-14T13:22:24.975401Z",
     "shell.execute_reply.started": "2021-06-14T12:27:14.601034Z"
    },
    "papermill": {
     "duration": 0.057075,
     "end_time": "2021-06-14T13:22:24.976136",
     "exception": false,
     "start_time": "2021-06-14T13:22:24.919061",
     "status": "completed"
    },
    "tags": []
   },
   "outputs": [],
   "source": [
    "abbreviations = {\n",
    "    \"$\" : \" dollar \",\n",
    "    \"€\" : \" euro \",\n",
    "    \"4ao\" : \"for adults only\",\n",
    "    \"a.m\" : \"before midday\",\n",
    "    \"a3\" : \"anytime anywhere anyplace\",\n",
    "    \"aamof\" : \"as a matter of fact\",\n",
    "    \"acct\" : \"account\",\n",
    "    \"adih\" : \"another day in hell\",\n",
    "    \"afaic\" : \"as far as i am concerned\",\n",
    "    \"afaict\" : \"as far as i can tell\",\n",
    "    \"afaik\" : \"as far as i know\",\n",
    "    \"afair\" : \"as far as i remember\",\n",
    "    \"afk\" : \"away from keyboard\",\n",
    "    \"app\" : \"application\",\n",
    "    \"approx\" : \"approximately\",\n",
    "    \"apps\" : \"applications\",\n",
    "    \"asap\" : \"as soon as possible\",\n",
    "    \"asl\" : \"age, sex, location\",\n",
    "    \"atk\" : \"at the keyboard\",\n",
    "    \"ave.\" : \"avenue\",\n",
    "    \"aymm\" : \"are you my mother\",\n",
    "    \"ayor\" : \"at your own risk\", \n",
    "    \"b&b\" : \"bed and breakfast\",\n",
    "    \"b+b\" : \"bed and breakfast\",\n",
    "    \"b.c\" : \"before christ\",\n",
    "    \"b2b\" : \"business to business\",\n",
    "    \"b2c\" : \"business to customer\",\n",
    "    \"b4\" : \"before\",\n",
    "    \"b4n\" : \"bye for now\",\n",
    "    \"b@u\" : \"back at you\",\n",
    "    \"bae\" : \"before anyone else\",\n",
    "    \"bak\" : \"back at keyboard\",\n",
    "    \"bbbg\" : \"bye bye be good\",\n",
    "    \"bbc\" : \"british broadcasting corporation\",\n",
    "    \"bbias\" : \"be back in a second\",\n",
    "    \"bbl\" : \"be back later\",\n",
    "    \"bbs\" : \"be back soon\",\n",
    "    \"be4\" : \"before\",\n",
    "    \"bfn\" : \"bye for now\",\n",
    "    \"blvd\" : \"boulevard\",\n",
    "    \"bout\" : \"about\",\n",
    "    \"brb\" : \"be right back\",\n",
    "    \"bros\" : \"brothers\",\n",
    "    \"brt\" : \"be right there\",\n",
    "    \"bsaaw\" : \"big smile and a wink\",\n",
    "    \"btw\" : \"by the way\",\n",
    "    \"bwl\" : \"bursting with laughter\",\n",
    "    \"c/o\" : \"care of\",\n",
    "    \"cet\" : \"central european time\",\n",
    "    \"cf\" : \"compare\",\n",
    "    \"cia\" : \"central intelligence agency\",\n",
    "    \"csl\" : \"can not stop laughing\",\n",
    "    \"cu\" : \"see you\",\n",
    "    \"cul8r\" : \"see you later\",\n",
    "    \"cv\" : \"curriculum vitae\",\n",
    "    \"cwot\" : \"complete waste of time\",\n",
    "    \"cya\" : \"see you\",\n",
    "    \"cyt\" : \"see you tomorrow\",\n",
    "    \"dae\" : \"does anyone else\",\n",
    "    \"dbmib\" : \"do not bother me i am busy\",\n",
    "    \"diy\" : \"do it yourself\",\n",
    "    \"dm\" : \"direct message\",\n",
    "    \"dwh\" : \"during work hours\",\n",
    "    \"e123\" : \"easy as one two three\",\n",
    "    \"eet\" : \"eastern european time\",\n",
    "    \"eg\" : \"example\",\n",
    "    \"embm\" : \"early morning business meeting\",\n",
    "    \"encl\" : \"enclosed\",\n",
    "    \"encl.\" : \"enclosed\",\n",
    "    \"etc\" : \"and so on\",\n",
    "    \"faq\" : \"frequently asked questions\",\n",
    "    \"fawc\" : \"for anyone who cares\",\n",
    "    \"fb\" : \"facebook\",\n",
    "    \"fc\" : \"fingers crossed\",\n",
    "    \"fig\" : \"figure\",\n",
    "    \"fimh\" : \"forever in my heart\", \n",
    "    \"ft.\" : \"feet\",\n",
    "    \"ft\" : \"featuring\",\n",
    "    \"ftl\" : \"for the loss\",\n",
    "    \"ftw\" : \"for the win\",\n",
    "    \"fwiw\" : \"for what it is worth\",\n",
    "    \"fyi\" : \"for your information\",\n",
    "    \"g9\" : \"genius\",\n",
    "    \"gahoy\" : \"get a hold of yourself\",\n",
    "    \"gal\" : \"get a life\",\n",
    "    \"gcse\" : \"general certificate of secondary education\",\n",
    "    \"gfn\" : \"gone for now\",\n",
    "    \"gg\" : \"good game\",\n",
    "    \"gl\" : \"good luck\",\n",
    "    \"glhf\" : \"good luck have fun\",\n",
    "    \"gmt\" : \"greenwich mean time\",\n",
    "    \"gmta\" : \"great minds think alike\",\n",
    "    \"gn\" : \"good night\",\n",
    "    \"g.o.a.t\" : \"greatest of all time\",\n",
    "    \"goat\" : \"greatest of all time\",\n",
    "    \"goi\" : \"get over it\",\n",
    "    \"gps\" : \"global positioning system\",\n",
    "    \"gr8\" : \"great\",\n",
    "    \"gratz\" : \"congratulations\",\n",
    "    \"gyal\" : \"girl\",\n",
    "    \"h&c\" : \"hot and cold\",\n",
    "    \"hp\" : \"horsepower\",\n",
    "    \"hr\" : \"hour\",\n",
    "    \"hrh\" : \"his royal highness\",\n",
    "    \"ht\" : \"height\",\n",
    "    \"ibrb\" : \"i will be right back\",\n",
    "    \"ic\" : \"i see\",\n",
    "    \"icq\" : \"i seek you\",\n",
    "    \"icymi\" : \"in case you missed it\",\n",
    "    \"idc\" : \"i do not care\",\n",
    "    \"idgadf\" : \"i do not give a damn fuck\",\n",
    "    \"idgaf\" : \"i do not give a fuck\",\n",
    "    \"idk\" : \"i do not know\",\n",
    "    \"ie\" : \"that is\",\n",
    "    \"i.e\" : \"that is\",\n",
    "    \"ifyp\" : \"i feel your pain\",\n",
    "    \"IG\" : \"instagram\",\n",
    "    \"iirc\" : \"if i remember correctly\",\n",
    "    \"ilu\" : \"i love you\",\n",
    "    \"ily\" : \"i love you\",\n",
    "    \"imho\" : \"in my humble opinion\",\n",
    "    \"imo\" : \"in my opinion\",\n",
    "    \"imu\" : \"i miss you\",\n",
    "    \"iow\" : \"in other words\",\n",
    "    \"irl\" : \"in real life\",\n",
    "    \"j4f\" : \"just for fun\",\n",
    "    \"jic\" : \"just in case\",\n",
    "    \"jk\" : \"just kidding\",\n",
    "    \"jsyk\" : \"just so you know\",\n",
    "    \"l8r\" : \"later\",\n",
    "    \"lb\" : \"pound\",\n",
    "    \"lbs\" : \"pounds\",\n",
    "    \"ldr\" : \"long distance relationship\",\n",
    "    \"lmao\" : \"laugh my ass off\",\n",
    "    \"lmfao\" : \"laugh my fucking ass off\",\n",
    "    \"lol\" : \"laughing out loud\",\n",
    "    \"ltd\" : \"limited\",\n",
    "    \"ltns\" : \"long time no see\",\n",
    "    \"m8\" : \"mate\",\n",
    "    \"mf\" : \"motherfucker\",\n",
    "    \"mfs\" : \"motherfuckers\",\n",
    "    \"mfw\" : \"my face when\",\n",
    "    \"mofo\" : \"motherfucker\",\n",
    "    \"mph\" : \"miles per hour\",\n",
    "    \"mr\" : \"mister\",\n",
    "    \"mrw\" : \"my reaction when\",\n",
    "    \"ms\" : \"miss\",\n",
    "    \"mte\" : \"my thoughts exactly\",\n",
    "    \"nagi\" : \"not a good idea\",\n",
    "    \"nbc\" : \"national broadcasting company\",\n",
    "    \"nbd\" : \"not big deal\",\n",
    "    \"nfs\" : \"not for sale\",\n",
    "    \"ngl\" : \"not going to lie\",\n",
    "    \"nhs\" : \"national health service\",\n",
    "    \"nrn\" : \"no reply necessary\",\n",
    "    \"nsfl\" : \"not safe for life\",\n",
    "    \"nsfw\" : \"not safe for work\",\n",
    "    \"nth\" : \"nice to have\",\n",
    "    \"nvr\" : \"never\",\n",
    "    \"nyc\" : \"new york city\",\n",
    "    \"oc\" : \"original content\",\n",
    "    \"og\" : \"original\",\n",
    "    \"ohp\" : \"overhead projector\",\n",
    "    \"oic\" : \"oh i see\",\n",
    "    \"omdb\" : \"over my dead body\",\n",
    "    \"omg\" : \"oh my god\",\n",
    "    \"omw\" : \"on my way\",\n",
    "    \"p.a\" : \"per annum\",\n",
    "    \"p.m\" : \"after midday\",\n",
    "    \"pm\" : \"prime minister\",\n",
    "    \"poc\" : \"people of color\",\n",
    "    \"pov\" : \"point of view\",\n",
    "    \"pp\" : \"pages\",\n",
    "    \"ppl\" : \"people\",\n",
    "    \"prw\" : \"parents are watching\",\n",
    "    \"ps\" : \"postscript\",\n",
    "    \"pt\" : \"point\",\n",
    "    \"ptb\" : \"please text back\",\n",
    "    \"pto\" : \"please turn over\",\n",
    "    \"qpsa\" : \"what happens\", #\"que pasa\",\n",
    "    \"ratchet\" : \"rude\",\n",
    "    \"rbtl\" : \"read between the lines\",\n",
    "    \"rlrt\" : \"real life retweet\", \n",
    "    \"rofl\" : \"rolling on the floor laughing\",\n",
    "    \"roflol\" : \"rolling on the floor laughing out loud\",\n",
    "    \"rotflmao\" : \"rolling on the floor laughing my ass off\",\n",
    "    \"rt\" : \"retweet\",\n",
    "    \"ruok\" : \"are you ok\",\n",
    "    \"sfw\" : \"safe for work\",\n",
    "    \"sk8\" : \"skate\",\n",
    "    \"smh\" : \"shake my head\",\n",
    "    \"sq\" : \"square\",\n",
    "    \"srsly\" : \"seriously\", \n",
    "    \"ssdd\" : \"same stuff different day\",\n",
    "    \"tbh\" : \"to be honest\",\n",
    "    \"tbs\" : \"tablespooful\",\n",
    "    \"tbsp\" : \"tablespooful\",\n",
    "    \"tfw\" : \"that feeling when\",\n",
    "    \"thks\" : \"thank you\",\n",
    "    \"tho\" : \"though\",\n",
    "    \"thx\" : \"thank you\",\n",
    "    \"tia\" : \"thanks in advance\",\n",
    "    \"til\" : \"today i learned\",\n",
    "    \"tl;dr\" : \"too long i did not read\",\n",
    "    \"tldr\" : \"too long i did not read\",\n",
    "    \"tmb\" : \"tweet me back\",\n",
    "    \"tntl\" : \"trying not to laugh\",\n",
    "    \"ttyl\" : \"talk to you later\",\n",
    "    \"u\" : \"you\",\n",
    "    \"u2\" : \"you too\",\n",
    "    \"u4e\" : \"yours for ever\",\n",
    "    \"utc\" : \"coordinated universal time\",\n",
    "    \"w/\" : \"with\",\n",
    "    \"w/o\" : \"without\",\n",
    "    \"w8\" : \"wait\",\n",
    "    \"wassup\" : \"what is up\",\n",
    "    \"wb\" : \"welcome back\",\n",
    "    \"wtf\" : \"what the fuck\",\n",
    "    \"wtg\" : \"way to go\",\n",
    "    \"wtpa\" : \"where the party at\",\n",
    "    \"wuf\" : \"where are you from\",\n",
    "    \"wuzup\" : \"what is up\",\n",
    "    \"wywh\" : \"wish you were here\",\n",
    "    \"yd\" : \"yard\",\n",
    "    \"ygtr\" : \"you got that right\",\n",
    "    \"ynk\" : \"you never know\",\n",
    "    \"zzz\" : \"sleeping bored and tired\"\n",
    "}"
   ]
  },
  {
   "cell_type": "code",
   "execution_count": 10,
   "id": "alternate-blank",
   "metadata": {
    "execution": {
     "iopub.execute_input": "2021-06-14T13:22:25.032786Z",
     "iopub.status.busy": "2021-06-14T13:22:25.031866Z",
     "iopub.status.idle": "2021-06-14T13:22:26.763388Z",
     "shell.execute_reply": "2021-06-14T13:22:26.762255Z",
     "shell.execute_reply.started": "2021-06-14T12:27:14.634164Z"
    },
    "papermill": {
     "duration": 1.761879,
     "end_time": "2021-06-14T13:22:26.763573",
     "exception": false,
     "start_time": "2021-06-14T13:22:25.001694",
     "status": "completed"
    },
    "tags": []
   },
   "outputs": [],
   "source": [
    "# importing libraries\n",
    "import nltk\n",
    "import re \n",
    "import string\n",
    "from nltk.corpus import stopwords\n",
    "from nltk.tokenize import word_tokenize\n",
    "from nltk.stem import WordNetLemmatizer"
   ]
  },
  {
   "cell_type": "code",
   "execution_count": 11,
   "id": "viral-hacker",
   "metadata": {
    "execution": {
     "iopub.execute_input": "2021-06-14T13:22:26.947778Z",
     "iopub.status.busy": "2021-06-14T13:22:26.946222Z",
     "iopub.status.idle": "2021-06-14T13:22:26.948492Z",
     "shell.execute_reply": "2021-06-14T13:22:26.948977Z",
     "shell.execute_reply.started": "2021-06-14T12:27:16.158951Z"
    },
    "papermill": {
     "duration": 0.159521,
     "end_time": "2021-06-14T13:22:26.949154",
     "exception": false,
     "start_time": "2021-06-14T13:22:26.789633",
     "status": "completed"
    },
    "tags": []
   },
   "outputs": [],
   "source": [
    "# Remove all URLs, replace by URL\n",
    "def remove_URL(text):\n",
    "    url = re.compile(r'https?://\\S+|www\\.\\S+')\n",
    "    return url.sub(r'URL',text)\n",
    "\n",
    "# Remove HTML beacon\n",
    "def remove_HTML(text):\n",
    "    html=re.compile(r'<.*?>')\n",
    "    return html.sub(r'',text)\n",
    "\n",
    "# Remove non printable characters\n",
    "def remove_not_ASCII(text):\n",
    "    text = ''.join([word for word in text if word in string.printable])\n",
    "    return text\n",
    "\n",
    "# Change an abbreviation by its true meaning\n",
    "def word_abbrev(word):\n",
    "    return abbreviations[word.lower()] if word.lower() in abbreviations.keys() else word\n",
    "\n",
    "# Replace all abbreviations\n",
    "def replace_abbrev(text):\n",
    "    string = \"\"\n",
    "    for word in text.split():\n",
    "        string += word_abbrev(word) + \" \"        \n",
    "    return string\n",
    "\n",
    "# Remove @ and mention, replace by USER\n",
    "def remove_mention(text):\n",
    "    at=re.compile(r'@\\S+')\n",
    "    return at.sub(r'USER',text)\n",
    "\n",
    "# Remove numbers, replace it by NUMBER\n",
    "def remove_number(text):\n",
    "    num = re.compile(r'[-+]?[.\\d]*[\\d]+[:,.\\d]*')\n",
    "    return num.sub(r'NUMBER', text)\n",
    "\n",
    "# Remove all emojis, replace by EMOJI\n",
    "def remove_emoji(text):\n",
    "    emoji_pattern = re.compile(\"[\"\n",
    "                           u\"\\U0001F600-\\U0001F64F\"  # emoticons\n",
    "                           u\"\\U0001F300-\\U0001F5FF\"  # symbols & pictographs\n",
    "                           u\"\\U0001F680-\\U0001F6FF\"  # transport & map symbols\n",
    "                           u\"\\U0001F1E0-\\U0001F1FF\"  # flags (iOS)\n",
    "                           u\"\\U00002702-\\U000027B0\"\n",
    "                           u\"\\U000024C2-\\U0001F251\"\n",
    "                           \"]+\", flags=re.UNICODE)\n",
    "    return emoji_pattern.sub(r'EMOJI', text)\n",
    "\n",
    "# Replace some others smileys with SADFACE\n",
    "def transcription_sad(text):\n",
    "    eyes = \"[8:=;]\"\n",
    "    nose = \"['`\\-]\"\n",
    "    smiley = re.compile(r'[8:=;][\\'\\-]?[(\\\\/]')\n",
    "    return smiley.sub(r'SADFACE', text)\n",
    "\n",
    "# Replace some smileys with SMILE\n",
    "def transcription_smile(text):\n",
    "    eyes = \"[8:=;]\"\n",
    "    nose = \"['`\\-]\"\n",
    "    smiley = re.compile(r'[8:=;][\\'\\-]?[)dDp]')\n",
    "    #smiley = re.compile(r'#{eyes}#{nose}[)d]+|[)d]+#{nose}#{eyes}/i')\n",
    "    return smiley.sub(r'SMILE', text)\n",
    "\n",
    "# Replace <3 with HEART\n",
    "def transcription_heart(text):\n",
    "    heart = re.compile(r'<3')\n",
    "    return heart.sub(r'HEART', text)\n",
    "\n",
    "# Factorize elongated words, add ELONG\n",
    "def remove_elongated_words(text):\n",
    "    rep = re.compile(r'\\b(\\S*?)([a-z])\\2{2,}\\b')\n",
    "    return rep.sub(r'\\1\\2 ELONG', text)\n",
    "\n",
    "# Factorize repeated punctuation, add REPEAT\n",
    "def remove_repeat_punct(text):\n",
    "    rep = re.compile(r'([!?.]){2,}')\n",
    "    return rep.sub(r'\\1 REPEAT', text)\n",
    "\n",
    "\n",
    "# Remove all punctuations\n",
    "def remove_all_punct(text):\n",
    "    table = str.maketrans('','',string.punctuation)\n",
    "    return text.translate(table)\n",
    "\n",
    "# Remove punctuations\n",
    "def remove_punct(text):\n",
    "    punctuations = '@#!?+&*[]-%.:/();$=><|{}^' + \"'`\" \n",
    "    for p in punctuations:\n",
    "        text = text.replace(p, f' {p} ')\n",
    "\n",
    "    text = text.replace('...', ' ... ')\n",
    "    if '...' not in text:\n",
    "        text = text.replace('..', ' ... ')   \n",
    "    return text\n",
    "\n",
    "\n",
    "# Remove stopwords\n",
    "def remove_stopwords(text):\n",
    "    text_tokens = word_tokenize(text)\n",
    "    tokens_without_sw = [word for word in text_tokens if not word in stopwords.words()]\n",
    "    text = ' '.join([str(elem) for elem in tokens_without_sw])\n",
    "    return text\n",
    "\n",
    "\n",
    "# Lemmatization\n",
    "def lemma(text):\n",
    "    tokens = word_tokenize(text)\n",
    "    wnl = WordNetLemmatizer()\n",
    "    text = ' '.join([wnl.lemmatize(words) for words in tokens])\n",
    "    return text"
   ]
  },
  {
   "cell_type": "code",
   "execution_count": 12,
   "id": "civilian-render",
   "metadata": {
    "execution": {
     "iopub.execute_input": "2021-06-14T13:22:27.008322Z",
     "iopub.status.busy": "2021-06-14T13:22:27.007660Z",
     "iopub.status.idle": "2021-06-14T13:22:27.009624Z",
     "shell.execute_reply": "2021-06-14T13:22:27.010066Z",
     "shell.execute_reply.started": "2021-06-14T12:27:16.288413Z"
    },
    "papermill": {
     "duration": 0.035269,
     "end_time": "2021-06-14T13:22:27.010236",
     "exception": false,
     "start_time": "2021-06-14T13:22:26.974967",
     "status": "completed"
    },
    "tags": []
   },
   "outputs": [],
   "source": [
    "def clean_tweet(text):\n",
    "    \n",
    "    # Remove non text\n",
    "    text = remove_URL(text)\n",
    "    text = remove_HTML(text)\n",
    "    text = remove_not_ASCII(text)\n",
    "    \n",
    "    # Lower text, replace abbreviations\n",
    "    text = text.lower()\n",
    "    text = replace_abbrev(text)  \n",
    "    text = remove_mention(text)\n",
    "    text = remove_number(text)\n",
    "    \n",
    "    # Remove emojis / smileys\n",
    "    text = remove_emoji(text)\n",
    "    text = transcription_sad(text)\n",
    "    text = transcription_smile(text)\n",
    "    text = transcription_heart(text)\n",
    "    \n",
    "    # Remove repeated puntuations / words\n",
    "    text = remove_elongated_words(text)\n",
    "    text = remove_repeat_punct(text)\n",
    "    text = remove_all_punct(text)\n",
    "    text = remove_punct(text)\n",
    "    \n",
    "    # Lemmatization and remove stopwords \n",
    "    text = remove_stopwords(text)\n",
    "    text = lemma(text)\n",
    "\n",
    "    return text"
   ]
  },
  {
   "cell_type": "code",
   "execution_count": 13,
   "id": "beautiful-paraguay",
   "metadata": {
    "execution": {
     "iopub.execute_input": "2021-06-14T13:22:27.064896Z",
     "iopub.status.busy": "2021-06-14T13:22:27.064204Z",
     "iopub.status.idle": "2021-06-14T13:33:30.917211Z",
     "shell.execute_reply": "2021-06-14T13:33:30.917848Z",
     "shell.execute_reply.started": "2021-06-14T12:27:16.307605Z"
    },
    "papermill": {
     "duration": 663.882176,
     "end_time": "2021-06-14T13:33:30.918057",
     "exception": false,
     "start_time": "2021-06-14T13:22:27.035881",
     "status": "completed"
    },
    "tags": []
   },
   "outputs": [],
   "source": [
    "train['cleanText']=train['text'].apply(clean_tweet)\n",
    "test['cleanText']=test['text'].apply(clean_tweet)"
   ]
  },
  {
   "cell_type": "code",
   "execution_count": 14,
   "id": "practical-observation",
   "metadata": {
    "execution": {
     "iopub.execute_input": "2021-06-14T13:33:30.972383Z",
     "iopub.status.busy": "2021-06-14T13:33:30.971770Z",
     "iopub.status.idle": "2021-06-14T13:33:30.975637Z",
     "shell.execute_reply": "2021-06-14T13:33:30.976186Z",
     "shell.execute_reply.started": "2021-06-14T12:38:44.689652Z"
    },
    "papermill": {
     "duration": 0.032384,
     "end_time": "2021-06-14T13:33:30.976353",
     "exception": false,
     "start_time": "2021-06-14T13:33:30.943969",
     "status": "completed"
    },
    "tags": []
   },
   "outputs": [],
   "source": [
    "from sklearn.feature_extraction.text import CountVectorizer\n",
    "from sklearn.feature_extraction.text import TfidfVectorizer"
   ]
  },
  {
   "cell_type": "code",
   "execution_count": 15,
   "id": "compliant-pound",
   "metadata": {
    "execution": {
     "iopub.execute_input": "2021-06-14T13:33:31.030684Z",
     "iopub.status.busy": "2021-06-14T13:33:31.030032Z",
     "iopub.status.idle": "2021-06-14T13:33:31.037709Z",
     "shell.execute_reply": "2021-06-14T13:33:31.038201Z",
     "shell.execute_reply.started": "2021-06-14T12:38:44.696034Z"
    },
    "papermill": {
     "duration": 0.036178,
     "end_time": "2021-06-14T13:33:31.038369",
     "exception": false,
     "start_time": "2021-06-14T13:33:31.002191",
     "status": "completed"
    },
    "tags": []
   },
   "outputs": [
    {
     "data": {
      "text/plain": [
       "0              deed reason earthquake may allah forgive u\n",
       "1                      forest fire near ronge sask canada\n",
       "2       resident asked shelter place notified officer ...\n",
       "3       NUMBER people receive wildfire evacuation orde...\n",
       "4       got sent photo ruby alaska smoke wildfire pour...\n",
       "                              ...                        \n",
       "7608    two giant crane holding bridge collapse nearby...\n",
       "7609    USER USER control wild fire california even no...\n",
       "7610        mNUMBER NUMBER utcNUMBERkm volcano hawaii url\n",
       "7611    police investigating ebike collided car little...\n",
       "7612    latest home razed northern california wildfire...\n",
       "Name: cleanText, Length: 7613, dtype: object"
      ]
     },
     "execution_count": 15,
     "metadata": {},
     "output_type": "execute_result"
    }
   ],
   "source": [
    "train.cleanText[:]"
   ]
  },
  {
   "cell_type": "code",
   "execution_count": 16,
   "id": "complicated-plastic",
   "metadata": {
    "execution": {
     "iopub.execute_input": "2021-06-14T13:33:31.093080Z",
     "iopub.status.busy": "2021-06-14T13:33:31.092431Z",
     "iopub.status.idle": "2021-06-14T13:33:31.310017Z",
     "shell.execute_reply": "2021-06-14T13:33:31.309438Z",
     "shell.execute_reply.started": "2021-06-14T13:17:16.417471Z"
    },
    "papermill": {
     "duration": 0.246051,
     "end_time": "2021-06-14T13:33:31.310189",
     "exception": false,
     "start_time": "2021-06-14T13:33:31.064138",
     "status": "completed"
    },
    "tags": []
   },
   "outputs": [],
   "source": [
    "cvt=CountVectorizer(ngram_range=(1,1))\n",
    "train_vector=cvt.fit_transform(train['cleanText'])\n",
    "test_vector=cvt.transform(test['cleanText'])"
   ]
  },
  {
   "cell_type": "code",
   "execution_count": 17,
   "id": "caring-support",
   "metadata": {
    "execution": {
     "iopub.execute_input": "2021-06-14T13:33:31.367128Z",
     "iopub.status.busy": "2021-06-14T13:33:31.366156Z",
     "iopub.status.idle": "2021-06-14T13:33:31.370998Z",
     "shell.execute_reply": "2021-06-14T13:33:31.370398Z",
     "shell.execute_reply.started": "2021-06-14T13:17:16.687065Z"
    },
    "papermill": {
     "duration": 0.03517,
     "end_time": "2021-06-14T13:33:31.371161",
     "exception": false,
     "start_time": "2021-06-14T13:33:31.335991",
     "status": "completed"
    },
    "tags": []
   },
   "outputs": [
    {
     "name": "stdout",
     "output_type": "stream",
     "text": [
      "(7613, 13284)\n",
      "(3263, 13284)\n"
     ]
    }
   ],
   "source": [
    "print(train_vector.shape)\n",
    "print(test_vector.shape)"
   ]
  },
  {
   "cell_type": "code",
   "execution_count": 18,
   "id": "unnecessary-preparation",
   "metadata": {
    "execution": {
     "iopub.execute_input": "2021-06-14T13:33:31.429504Z",
     "iopub.status.busy": "2021-06-14T13:33:31.428661Z",
     "iopub.status.idle": "2021-06-14T13:33:31.432415Z",
     "shell.execute_reply": "2021-06-14T13:33:31.431818Z",
     "shell.execute_reply.started": "2021-06-14T13:17:21.747558Z"
    },
    "papermill": {
     "duration": 0.034775,
     "end_time": "2021-06-14T13:33:31.432622",
     "exception": false,
     "start_time": "2021-06-14T13:33:31.397847",
     "status": "completed"
    },
    "tags": []
   },
   "outputs": [],
   "source": [
    "a = \"cat hat bat splat cat bat hat mat cat\"\n",
    "b = \"cat mat cat sat\"\n",
    "cv = CountVectorizer(stop_words='english')\n",
    "tv = TfidfVectorizer(stop_words='english')"
   ]
  },
  {
   "cell_type": "code",
   "execution_count": 19,
   "id": "intellectual-stanford",
   "metadata": {
    "execution": {
     "iopub.execute_input": "2021-06-14T13:33:31.492992Z",
     "iopub.status.busy": "2021-06-14T13:33:31.491853Z",
     "iopub.status.idle": "2021-06-14T13:33:31.495093Z",
     "shell.execute_reply": "2021-06-14T13:33:31.494425Z",
     "shell.execute_reply.started": "2021-06-14T13:17:24.088330Z"
    },
    "papermill": {
     "duration": 0.03536,
     "end_time": "2021-06-14T13:33:31.495249",
     "exception": false,
     "start_time": "2021-06-14T13:33:31.459889",
     "status": "completed"
    },
    "tags": []
   },
   "outputs": [],
   "source": [
    "from sklearn.model_selection import StratifiedKFold\n",
    "from sklearn.model_selection import GridSearchCV\n",
    "from sklearn.linear_model import LogisticRegression"
   ]
  },
  {
   "cell_type": "code",
   "execution_count": 20,
   "id": "center-bermuda",
   "metadata": {
    "execution": {
     "iopub.execute_input": "2021-06-14T13:33:31.552427Z",
     "iopub.status.busy": "2021-06-14T13:33:31.551689Z",
     "iopub.status.idle": "2021-06-14T13:33:31.555350Z",
     "shell.execute_reply": "2021-06-14T13:33:31.554718Z",
     "shell.execute_reply.started": "2021-06-14T13:17:26.300527Z"
    },
    "papermill": {
     "duration": 0.034199,
     "end_time": "2021-06-14T13:33:31.555516",
     "exception": false,
     "start_time": "2021-06-14T13:33:31.521317",
     "status": "completed"
    },
    "tags": []
   },
   "outputs": [],
   "source": [
    "train_y=train['target']"
   ]
  },
  {
   "cell_type": "code",
   "execution_count": 21,
   "id": "considered-documentary",
   "metadata": {
    "execution": {
     "iopub.execute_input": "2021-06-14T13:33:31.621792Z",
     "iopub.status.busy": "2021-06-14T13:33:31.616243Z",
     "iopub.status.idle": "2021-06-14T13:33:49.377128Z",
     "shell.execute_reply": "2021-06-14T13:33:49.377831Z",
     "shell.execute_reply.started": "2021-06-14T13:18:54.466547Z"
    },
    "papermill": {
     "duration": 17.796213,
     "end_time": "2021-06-14T13:33:49.378151",
     "exception": false,
     "start_time": "2021-06-14T13:33:31.581938",
     "status": "completed"
    },
    "tags": []
   },
   "outputs": [
    {
     "data": {
      "text/plain": [
       "GridSearchCV(estimator=LogisticRegression(solver='liblinear'),\n",
       "             param_grid={'C': array([1.00000000e-04, 2.63665090e-04, 6.95192796e-04, 1.83298071e-03,\n",
       "       4.83293024e-03, 1.27427499e-02, 3.35981829e-02, 8.85866790e-02,\n",
       "       2.33572147e-01, 6.15848211e-01, 1.62377674e+00, 4.28133240e+00,\n",
       "       1.12883789e+01, 2.97635144e+01, 7.84759970e+01, 2.06913808e+02,\n",
       "       5.45559478e+02, 1.43844989e+03, 3.79269019e+03, 1.00000000e+04])},\n",
       "             scoring='f1')"
      ]
     },
     "execution_count": 21,
     "metadata": {},
     "output_type": "execute_result"
    }
   ],
   "source": [
    "tv=TfidfVectorizer(ngram_range=(1,2))\n",
    "train_vector_t=cvt.fit_transform(train['cleanText'])\n",
    "test_vector_t=cvt.transform(test['cleanText'])\n",
    "#skf = StratifiedKFold(n_splits=5,random_state=17)\n",
    "param_grid={'C':np.logspace(-4, 4, 20)}\n",
    "logit=LogisticRegression(solver='liblinear')\n",
    "gv=GridSearchCV(logit,param_grid=param_grid,scoring='f1')\n",
    "gv.fit(train_vector_t,train_y)"
   ]
  },
  {
   "cell_type": "code",
   "execution_count": 22,
   "id": "located-parent",
   "metadata": {
    "execution": {
     "iopub.execute_input": "2021-06-14T13:33:49.478848Z",
     "iopub.status.busy": "2021-06-14T13:33:49.477766Z",
     "iopub.status.idle": "2021-06-14T13:33:49.481590Z",
     "shell.execute_reply": "2021-06-14T13:33:49.482168Z",
     "shell.execute_reply.started": "2021-06-14T13:19:27.308303Z"
    },
    "papermill": {
     "duration": 0.05771,
     "end_time": "2021-06-14T13:33:49.482342",
     "exception": false,
     "start_time": "2021-06-14T13:33:49.424632",
     "status": "completed"
    },
    "tags": []
   },
   "outputs": [
    {
     "data": {
      "text/plain": [
       "{'C': 0.23357214690901212}"
      ]
     },
     "execution_count": 22,
     "metadata": {},
     "output_type": "execute_result"
    }
   ],
   "source": [
    "gv.best_params_"
   ]
  },
  {
   "cell_type": "code",
   "execution_count": 23,
   "id": "framed-rover",
   "metadata": {
    "execution": {
     "iopub.execute_input": "2021-06-14T13:33:49.540479Z",
     "iopub.status.busy": "2021-06-14T13:33:49.539513Z",
     "iopub.status.idle": "2021-06-14T13:33:49.595857Z",
     "shell.execute_reply": "2021-06-14T13:33:49.596720Z",
     "shell.execute_reply.started": "2021-06-14T13:19:36.902054Z"
    },
    "papermill": {
     "duration": 0.088211,
     "end_time": "2021-06-14T13:33:49.596979",
     "exception": false,
     "start_time": "2021-06-14T13:33:49.508768",
     "status": "completed"
    },
    "tags": []
   },
   "outputs": [],
   "source": [
    "clf=LogisticRegression(solver='liblinear',C=gv.best_params_['C']).fit(train_vector_t,train_y)"
   ]
  },
  {
   "cell_type": "code",
   "execution_count": 24,
   "id": "lonely-repository",
   "metadata": {
    "execution": {
     "iopub.execute_input": "2021-06-14T13:33:49.700320Z",
     "iopub.status.busy": "2021-06-14T13:33:49.699189Z",
     "iopub.status.idle": "2021-06-14T13:33:49.727607Z",
     "shell.execute_reply": "2021-06-14T13:33:49.726974Z",
     "shell.execute_reply.started": "2021-06-14T13:19:38.170306Z"
    },
    "papermill": {
     "duration": 0.082385,
     "end_time": "2021-06-14T13:33:49.727775",
     "exception": false,
     "start_time": "2021-06-14T13:33:49.645390",
     "status": "completed"
    },
    "tags": []
   },
   "outputs": [],
   "source": [
    "sample_submission = pd.read_csv(\"../input/nlp-getting-started/sample_submission.csv\")"
   ]
  },
  {
   "cell_type": "code",
   "execution_count": 25,
   "id": "passing-outdoors",
   "metadata": {
    "execution": {
     "iopub.execute_input": "2021-06-14T13:33:49.788300Z",
     "iopub.status.busy": "2021-06-14T13:33:49.787700Z",
     "iopub.status.idle": "2021-06-14T13:33:49.791417Z",
     "shell.execute_reply": "2021-06-14T13:33:49.790789Z",
     "shell.execute_reply.started": "2021-06-14T13:19:38.803266Z"
    },
    "papermill": {
     "duration": 0.035482,
     "end_time": "2021-06-14T13:33:49.791639",
     "exception": false,
     "start_time": "2021-06-14T13:33:49.756157",
     "status": "completed"
    },
    "tags": []
   },
   "outputs": [],
   "source": [
    "sample_submission['target'] = clf.predict(test_vector_t)"
   ]
  },
  {
   "cell_type": "code",
   "execution_count": 26,
   "id": "hearing-history",
   "metadata": {
    "execution": {
     "iopub.execute_input": "2021-06-14T13:33:49.848400Z",
     "iopub.status.busy": "2021-06-14T13:33:49.847740Z",
     "iopub.status.idle": "2021-06-14T13:33:49.863787Z",
     "shell.execute_reply": "2021-06-14T13:33:49.863060Z",
     "shell.execute_reply.started": "2021-06-14T13:21:33.985641Z"
    },
    "papermill": {
     "duration": 0.045597,
     "end_time": "2021-06-14T13:33:49.863962",
     "exception": false,
     "start_time": "2021-06-14T13:33:49.818365",
     "status": "completed"
    },
    "tags": []
   },
   "outputs": [],
   "source": [
    "sample_submission.to_csv('sub.csv',index=False)"
   ]
  },
  {
   "cell_type": "code",
   "execution_count": null,
   "id": "weighted-companion",
   "metadata": {
    "papermill": {
     "duration": 0.027067,
     "end_time": "2021-06-14T13:33:49.918517",
     "exception": false,
     "start_time": "2021-06-14T13:33:49.891450",
     "status": "completed"
    },
    "tags": []
   },
   "outputs": [],
   "source": []
  }
 ],
 "metadata": {
  "kernelspec": {
   "display_name": "Python 3",
   "language": "python",
   "name": "python3"
  },
  "language_info": {
   "codemirror_mode": {
    "name": "ipython",
    "version": 3
   },
   "file_extension": ".py",
   "mimetype": "text/x-python",
   "name": "python",
   "nbconvert_exporter": "python",
   "pygments_lexer": "ipython3",
   "version": "3.7.10"
  },
  "papermill": {
   "default_parameters": {},
   "duration": 696.245074,
   "end_time": "2021-06-14T13:33:51.742407",
   "environment_variables": {},
   "exception": null,
   "input_path": "__notebook__.ipynb",
   "output_path": "__notebook__.ipynb",
   "parameters": {},
   "start_time": "2021-06-14T13:22:15.497333",
   "version": "2.3.3"
  }
 },
 "nbformat": 4,
 "nbformat_minor": 5
}
